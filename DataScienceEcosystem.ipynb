{
 "cells": [
  {
   "cell_type": "markdown",
   "metadata": {},
   "source": [
    "<center>\n",
    "    <img src=\"https://cf-courses-data.s3.us.cloud-object-storage.appdomain.cloud/IBMDeveloperSkillsNetwork-DS0105EN-SkillsNetwork/labs/Module2/images/SN_web_lightmode.png\" width=\"300\" alt=\"cognitiveclass.ai logo\">\n",
    "</center>\n"
   ]
  },
  {
   "cell_type": "markdown",
   "metadata": {},
   "source": [
    "#### Add your code below following the instructions given in the course\n"
   ]
  },
  {
   "cell_type": "code",
   "execution_count": null,
   "metadata": {},
   "outputs": [],
   "source": [
    "# Data Science Tools and Ecosystem"
   ]
  },
  {
   "cell_type": "markdown",
   "metadata": {},
   "source": [
    "In this notebook, we will explore the fundamental tools and languages used in data science."
   ]
  },
  {
   "cell_type": "code",
   "execution_count": null,
   "metadata": {},
   "outputs": [],
   "source": [
    "**Popular Data Science Languages:**\n",
    "1. Python\n",
    "2. R\n",
    "3. SQL"
   ]
  },
  {
   "cell_type": "code",
   "execution_count": null,
   "metadata": {},
   "outputs": [],
   "source": [
    "**Essential Data Science Libraries:**\n",
    "1. NumPy\n",
    "2. Pandas\n",
    "3. Matplotlib\n",
    "4. Scikit-learn"
   ]
  },
  {
   "cell_type": "code",
   "execution_count": null,
   "metadata": {},
   "outputs": [],
   "source": [
    "# Data Science Tools and Ecosystem\n",
    "\n",
    "**Introduction**\n",
    "\n",
    "This notebook provides a brief overview of the fundamental tools and languages used in data science.\n",
    "\n",
    "**Data Science Languages**\n",
    "\n",
    "* **Python:** A versatile language widely used in data science due to its simplicity and extensive libraries.\n",
    "* **R:** A statistical programming language specifically designed for data analysis and visualization.\n",
    "* **SQL:** A language for managing and querying relational databases, often used for data extraction and cleaning.\n",
    "\n",
    "**Data Science Libraries**\n",
    "\n",
    "* **NumPy:** Provides efficient numerical operations on arrays and matrices.\n",
    "* **Pandas:** Offers powerful data manipulation and analysis tools.\n",
    "* **Matplotlib:** A versatile library for creating static, animated, and interactive visualizations.\n",
    "* **Scikit-learn:** A comprehensive machine learning library for tasks like classification, regression, and clustering.\n",
    "\n",
    "**Data Science Tools**\n",
    "\n",
    "| Tool | Description |\n",
    "|---|---|\n",
    "| Jupyter Notebook | An interactive environment for data exploration, analysis, and visualization. |\n",
    "| RStudio | An integrated development environment (IDE) specifically designed for R. |\n",
    "| VS Code | A versatile code editor that can be customized for data science. |\n",
    "| Tableau | A powerful data visualization and business intelligence tool. |\n",
    "| Power BI | A comprehensive data visualization and business intelligence tool. |\n",
    "\n",
    "## Arithmetic Operations in Python\n",
    "\n",
    "**Let's explore some basic arithmetic operations:**\n",
    "\n",
    "```python\n",
    "# Multiply 5 by 3 and add 2\n",
    "result = (5 * 3) + 2\n",
    "print(result)  # Output: 17"
   ]
  },
  {
   "cell_type": "code",
   "execution_count": 1,
   "metadata": {},
   "outputs": [
    {
     "name": "stdout",
     "output_type": "stream",
     "text": [
      "180 minutes is equal to 3.0 hours.\n"
     ]
    }
   ],
   "source": [
    "minutes = 180\n",
    "hours = minutes / 60\n",
    "print(f\"{minutes} minutes is equal to {hours} hours.\")  # Output: 180 minutes is equal to 3.0 hours."
   ]
  },
  {
   "cell_type": "code",
   "execution_count": null,
   "metadata": {},
   "outputs": [],
   "source": []
  }
 ],
 "metadata": {
  "kernelspec": {
   "display_name": "Python 3 (ipykernel)",
   "language": "python",
   "name": "python3"
  },
  "language_info": {
   "codemirror_mode": {
    "name": "ipython",
    "version": 3
   },
   "file_extension": ".py",
   "mimetype": "text/x-python",
   "name": "python",
   "nbconvert_exporter": "python",
   "pygments_lexer": "ipython3",
   "version": "3.11.9"
  }
 },
 "nbformat": 4,
 "nbformat_minor": 4
}
import matplotlib.pyplot as plt
import numpy as np

# Sample data
x = np.linspace(0, 10, 100)
y = np.sin(x)

# Create the plot
plt.plot(x, y)
plt.xlabel('x-axis')
plt.ylabel('y-axis')
plt.title('Simple Sine Wave')
plt.show()
